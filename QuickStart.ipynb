{
    "metadata": {
        "kernelspec": {
            "name": "powershell",
            "display_name": "PowerShell",
            "language": "powershell"
        },
        "language_info": {
            "name": "powershell",
            "codemirror_mode": "shell",
            "mimetype": "text/x-sh",
            "file_extension": ".ps1"
        }
    },
    "nbformat_minor": 2,
    "nbformat": 4,
    "cells": [
        {
            "cell_type": "markdown",
            "source": [
                "Activate  Hyper-V funtionalities"
            ],
            "metadata": {
                "azdata_cell_guid": "8d4fdc27-737f-4ce5-8eb6-439f4029bbda"
            }
        },
        {
            "cell_type": "code",
            "source": [
                "Enable-WindowsOptionalFeature -Online -FeatureName Microsoft-Hyper-V -All"
            ],
            "metadata": {
                "azdata_cell_guid": "cb6c1258-6b24-46b8-a0c2-1f8c18c3f6f8"
            },
            "outputs": [
                {
                    "name": "stdout",
                    "text": "\n\nPath          : \nOnline        : True\nRestartNeeded : False\n\n\n\n",
                    "output_type": "stream"
                }
            ],
            "execution_count": 8
        },
        {
            "cell_type": "markdown",
            "source": [
                "After the restart, open the Hyper-V Manager"
            ],
            "metadata": {
                "azdata_cell_guid": "472c72fe-f44d-44c7-b9d2-5a0188163c68"
            }
        },
        {
            "cell_type": "code",
            "source": [
                "virtmgmt.msc"
            ],
            "metadata": {
                "azdata_cell_guid": "357e544c-e803-4dd3-8c27-84c5a0099b67"
            },
            "outputs": [
                {
                    "name": "stdout",
                    "text": "",
                    "output_type": "stream"
                }
            ],
            "execution_count": 9
        },
        {
            "cell_type": "markdown",
            "source": [
                "Create a new bridge switch"
            ],
            "metadata": {
                "azdata_cell_guid": "5c1a0ac4-a6e5-4c42-b89a-06f5fc5ffaff"
            }
        },
        {
            "cell_type": "code",
            "source": [
                "Get-NetAdapter"
            ],
            "metadata": {
                "azdata_cell_guid": "b32ca399-c0a8-43d7-b35b-4dcb79575126"
            },
            "outputs": [
                {
                    "name": "stdout",
                    "text": "\nName                      InterfaceDescription                    ifIndex Status       MacAddress             LinkSpeed\n----                      --------------------                    ------- ------       ----------             ---------\nEthernet                  Realtek PCIe GbE Family Controller           19 Up           4C-CC-6A-62-BB-29         1 Gbps\nEthernet 2                Dell GigabitEthernet                         18 Disconnected 9C-EB-E8-3E-66-13         1 Gbps\nvEthernet (vExternalSw... Hyper-V Virtual Ethernet Adapter #2           7 Up           4C-CC-6A-62-BB-29         1 Gbps\n",
                    "output_type": "stream"
                },
                {
                    "name": "stdout",
                    "text": "vEthernet (Default Swi... Hyper-V Virtual Ethernet Adapter             28 Up           00-15-5D-A7-BF-9F        10 Gbps\n\n\n",
                    "output_type": "stream"
                }
            ],
            "execution_count": 13
        },
        {
            "cell_type": "code",
            "source": [
                "$VMSwitchName = 'vExternalSwitch'\n",
                "\n",
                "# use Get-NetAdapter to get names for the following items if they are eventualy changed on your system\n",
                "$NetAdapterName = 'Ethernet'\n",
                "\n",
                "# Warning this will break your ethernet connection during a brief period\n",
                "New-VMSwitch -Name $VMSwitchName -NetAdapterName $NetAdapterName -AllowManagementOS $true"
            ],
            "metadata": {
                "azdata_cell_guid": "19b2c423-fe7a-4060-a06f-0ff7af3ecb60"
            },
            "outputs": [
                {
                    "name": "stdout",
                    "text": "New-VMSwitch : Failed while adding virtual Ethernet switch connections.\nExternal Ethernet adapter 'Realtek PCIe GbE Family Controller' is already bound to the Microsoft Virtual Switch \nprotocol.\nAt line:6 char:1\n+ New-VMSwitch -Name $VMSwitchName -NetAdapterName $NetAdapterName -All ...\n+ ~~~~~~~~~~~~~~~~~~~~~~~~~~~~~~~~~~~~~~~~~~~~~~~~~~~~~~~~~~~~~~~~~~~~~\n    + CategoryInfo          : InvalidArgument: (:) [New-VMSwitch], VirtualizationException\n    + FullyQualifiedErrorId : InvalidParameter,Microsoft.HyperV.PowerShell.Commands.NewVMSwitch\n \n",
                    "output_type": "stream"
                }
            ],
            "execution_count": 11
        },
        {
            "cell_type": "markdown",
            "source": [
                "Create VM"
            ],
            "metadata": {
                "azdata_cell_guid": "4dc536c4-c07b-4981-8296-a94e2e5cd153"
            }
        },
        {
            "cell_type": "code",
            "source": [
                "$VMName = 'WS2019'\n",
                "$VMSwitchName = 'vExternalSwitch'\n",
                "$VMDiskPath = 'F:\\VMs\\'\n",
                "\n",
                "$ISOfile = 'en_windows_server_2019_updated_feb_2021_x64_dvd_277a6bfe.iso'\n",
                "$BootISOPath = 'G:\\GoToBackup\\ISO\\'\n",
                "\n",
                "$ProcessorCount = 2\n",
                "$MemoryStartupBytes = 2gb\n",
                "$MemoryMinimumBytes = 512mb\n",
                "$MemoryMaximumBytes = 4gb\n",
                "$DataDiskSize = 60gb\n",
                "\n",
                "$BootISOFullPath = $BootISOPath + $ISOfile\n",
                "$NewVHDPath = $VMDiskPath + $VMName + '.vhdx'\n",
                "\n",
                "# Clean up\n",
                "Remove-VM -Name $VMName -Force\n",
                "Remove-Item $NewVHDPath\n",
                "\n",
                "\n",
                "New-VM -Name $VMName -Generation 2 -SwitchName $VMSwitchName -NewVHDPath $NewVHDPath -NewVHDSizeBytes $DataDiskSize\n",
                "\n",
                "Set-VMProcessor -VMName $VMName -Count $ProcessorCount \n",
                "Set-VMMemory -VMName $VMName -StartupBytes $MemoryStartupBytes -DynamicMemoryEnabled $true -MinimumBytes $MemoryMinimumBytes -MaximumBytes $MemoryMaximumBytes\n",
                "\n",
                "Add-VMDvdDrive -VMName $VMName -Path $BootISOFullPath\n",
                "\n",
                "Set-VMFirmware -VMName $VMName -FirstBootDevice $(Get-VMDvdDrive -VMName $VMName)"
            ],
            "metadata": {
                "azdata_cell_guid": "327ddcf3-490f-4055-b633-806ad1cb9411",
                "tags": []
            },
            "outputs": [
                {
                    "name": "stdout",
                    "text": "\n",
                    "output_type": "stream"
                },
                {
                    "name": "stdout",
                    "text": "Name   State CPUUsage(%) MemoryAssigned(M) Uptime   Status             Version\n----   ----- ----------- ----------------- ------   ------             -------\nWS2019 Off   0           0                 00:00:00 Operating normally 9.0    \n\n\n",
                    "output_type": "stream"
                }
            ],
            "execution_count": 33
        },
        {
            "cell_type": "code",
            "source": [
                "$VMName = 'WS2019'\r\n",
                "\r\n",
                "Start-VM -VMName $VMName"
            ],
            "metadata": {
                "azdata_cell_guid": "7b627feb-e08d-414c-89f6-e14e37a63519",
                "tags": []
            },
            "outputs": [
                {
                    "name": "stdout",
                    "text": "",
                    "output_type": "stream"
                }
            ],
            "execution_count": 34
        },
        {
            "cell_type": "markdown",
            "source": [
                "Create checkpoint"
            ],
            "metadata": {
                "azdata_cell_guid": "45af8355-59fc-48d6-92d5-d8ece0c0b559"
            }
        },
        {
            "cell_type": "code",
            "source": [
                "$VMName = 'WS2019'\r\n",
                "$CheckpointName = 'Clean machine with latest updates'\r\n",
                "\r\n",
                "Checkpoint-VM -Name $VMName -SnapshotName $CheckpointName"
            ],
            "metadata": {
                "azdata_cell_guid": "676cc4a7-568f-46a8-a169-0749c6dcd833"
            },
            "outputs": [
                {
                    "name": "stdout",
                    "text": "",
                    "output_type": "stream"
                }
            ],
            "execution_count": 35
        },
        {
            "cell_type": "markdown",
            "source": [
                "Export VM"
            ],
            "metadata": {
                "azdata_cell_guid": "b68e2235-a1d5-4ebd-858c-b0c4ae58baca"
            }
        },
        {
            "cell_type": "code",
            "source": [
                "$VMName = 'WS2019'\n",
                "$ExportPath = 'F:\\ExportedVMs'\n",
                "\n",
                "Export-VM -Name $VMName -Path $ExportPath"
            ],
            "metadata": {
                "azdata_cell_guid": "173b7769-9d84-43ab-b834-8ab8352c9da3"
            },
            "outputs": [
{
    "name": "stdout",
    "text": "",
    "output_type": "stream"
}
],
            "execution_count": null
        }
    ]
}